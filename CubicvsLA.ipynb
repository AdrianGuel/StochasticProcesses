{
  "nbformat": 4,
  "nbformat_minor": 0,
  "metadata": {
    "colab": {
      "name": "CubicvsLA.ipynb",
      "provenance": [],
      "machine_shape": "hm",
      "authorship_tag": "ABX9TyMGA1NkI3q2HEgxVcCLwmQr",
      "include_colab_link": true
    },
    "kernelspec": {
      "name": "python3",
      "display_name": "Python 3"
    },
    "language_info": {
      "name": "python"
    },
    "accelerator": "GPU"
  },
  "cells": [
    {
      "cell_type": "markdown",
      "metadata": {
        "id": "view-in-github",
        "colab_type": "text"
      },
      "source": [
        "<a href=\"https://colab.research.google.com/github/AdrianGuel/StochasticProcesses/blob/main/CubicvsLA.ipynb\" target=\"_parent\"><img src=\"https://colab.research.google.com/assets/colab-badge.svg\" alt=\"Open In Colab\"/></a>"
      ]
    },
    {
      "cell_type": "code",
      "execution_count": 16,
      "metadata": {
        "id": "VP2A8-LSLL9P",
        "colab": {
          "base_uri": "https://localhost:8080/"
        },
        "outputId": "6cedcd88-e361-42a9-9a6a-f111ac8d7142"
      },
      "outputs": [
        {
          "output_type": "stream",
          "name": "stdout",
          "text": [
            "Looking in indexes: https://pypi.org/simple, https://us-python.pkg.dev/colab-wheels/public/simple/\n",
            "Requirement already satisfied: torchsde in /usr/local/lib/python3.7/dist-packages (0.2.5)\n",
            "Requirement already satisfied: boltons>=20.2.1 in /usr/local/lib/python3.7/dist-packages (from torchsde) (21.0.0)\n",
            "Requirement already satisfied: numpy>=1.19.* in /usr/local/lib/python3.7/dist-packages (from torchsde) (1.21.6)\n",
            "Requirement already satisfied: torch>=1.6.0 in /usr/local/lib/python3.7/dist-packages (from torchsde) (1.11.0+cu113)\n",
            "Requirement already satisfied: scipy>=1.5 in /usr/local/lib/python3.7/dist-packages (from torchsde) (1.7.3)\n",
            "Requirement already satisfied: trampoline>=0.1.2 in /usr/local/lib/python3.7/dist-packages (from torchsde) (0.1.2)\n",
            "Requirement already satisfied: typing-extensions in /usr/local/lib/python3.7/dist-packages (from torch>=1.6.0->torchsde) (4.2.0)\n",
            "Looking in indexes: https://pypi.org/simple, https://us-python.pkg.dev/colab-wheels/public/simple/\n",
            "Requirement already satisfied: KDEpy in /usr/local/lib/python3.7/dist-packages (1.1.0)\n",
            "Requirement already satisfied: scipy>=1.0.1 in /usr/local/lib/python3.7/dist-packages (from KDEpy) (1.7.3)\n",
            "Requirement already satisfied: numpy>=1.14.2 in /usr/local/lib/python3.7/dist-packages (from KDEpy) (1.21.6)\n",
            "Requirement already satisfied: matplotlib>=2.2.0 in /usr/local/lib/python3.7/dist-packages (from KDEpy) (3.2.2)\n",
            "Requirement already satisfied: python-dateutil>=2.1 in /usr/local/lib/python3.7/dist-packages (from matplotlib>=2.2.0->KDEpy) (2.8.2)\n",
            "Requirement already satisfied: pyparsing!=2.0.4,!=2.1.2,!=2.1.6,>=2.0.1 in /usr/local/lib/python3.7/dist-packages (from matplotlib>=2.2.0->KDEpy) (3.0.9)\n",
            "Requirement already satisfied: kiwisolver>=1.0.1 in /usr/local/lib/python3.7/dist-packages (from matplotlib>=2.2.0->KDEpy) (1.4.2)\n",
            "Requirement already satisfied: cycler>=0.10 in /usr/local/lib/python3.7/dist-packages (from matplotlib>=2.2.0->KDEpy) (0.11.0)\n",
            "Requirement already satisfied: typing-extensions in /usr/local/lib/python3.7/dist-packages (from kiwisolver>=1.0.1->matplotlib>=2.2.0->KDEpy) (4.2.0)\n",
            "Requirement already satisfied: six>=1.5 in /usr/local/lib/python3.7/dist-packages (from python-dateutil>=2.1->matplotlib>=2.2.0->KDEpy) (1.15.0)\n"
          ]
        }
      ],
      "source": [
        "#Install libraries\n",
        "!pip install torchsde\n",
        "!pip install KDEpy"
      ]
    },
    {
      "cell_type": "code",
      "source": [
        "# Import methods\n",
        "import torch\n",
        "torch.cuda.empty_cache()\n",
        "from torch import nn\n",
        "%matplotlib inline\n",
        "import matplotlib.pyplot as plt\n",
        "import torchsde\n",
        "from scipy.integrate import odeint\n",
        "import numpy as np\n",
        "from KDEpy import FFTKDE\n",
        "from scipy.signal import savgol_filter\n",
        "from scipy import stats\n",
        "from mpl_toolkits import mplot3d\n",
        "import torch.nn.functional as F\n",
        "from scipy.io import savemat"
      ],
      "metadata": {
        "id": "_RwqKIXrLVtr"
      },
      "execution_count": 17,
      "outputs": []
    },
    {
      "cell_type": "code",
      "source": [
        "# Laplace Assumption of a simple cubc stochastic differential equation\n",
        "def f(y, t, gamma, Dx):\n",
        "    return np.array([-gamma*y[0]**3-0.5*gamma*6*y[0]*y[1],-6*gamma*y[1]*(y[0]**2)+2*Dx])\n",
        "#Parameters\n",
        "mu0, gamma, Dx, beta0, t_size = 5, 0.01, 0.01**2, 0.01, 10**3\n",
        "x_size=10**3\n",
        "gpu = torch.device('cuda')\n",
        "x = np.linspace(0,6, x_size)\n",
        "t = np.linspace(0, 3, t_size)\n",
        "f0 = np.array([mu0, beta0])\n",
        "M = odeint(f, f0, t, args=(gamma, Dx))\n",
        "#Information Rate\n",
        "dM=-gamma*M[:,0]**3-0.5*gamma*6*M[:,0]*M[:,1]\n",
        "dS=-6*gamma*M[:,1]*(M[:,0]**2)+2*Dx\n",
        "G2=(dM**2)/M[:,1]+0.5*(dS/M[:,1])**2\n",
        "#Gaussian density estimation\n",
        "pla= torch.zeros([x_size, t_size])\n",
        "pla=pla.to(gpu)\n",
        "for i in range(0,t_size):\n",
        "  pla[:,i]=torch.tensor(stats.norm.pdf(x, M[i,0], np.sqrt(M[i,1])))"
      ],
      "metadata": {
        "id": "ub47lW9hLwR3"
      },
      "execution_count": 18,
      "outputs": []
    },
    {
      "cell_type": "code",
      "source": [
        "#Stochastic simulation and kernel density estimation comparison SSvsLA changing gamma\n",
        "class SDE(nn.Module):\n",
        "\n",
        "    def __init__(self,gamma,D):\n",
        "        super().__init__()\n",
        "        self.thetaf = nn.Parameter(torch.tensor(gamma), requires_grad=False)  # Scalar parameter.\n",
        "        self.thetag = nn.Parameter(torch.tensor(D), requires_grad=False)\n",
        "        self.noise_type = \"diagonal\"\n",
        "        self.sde_type = \"ito\"\n",
        "    \n",
        "    def f(self, t, y):\n",
        "        return -self.thetaf * y**3\n",
        "    \n",
        "    def g(self,t,y):\n",
        "        return self.thetag+ torch.sigmoid(y)*0\n",
        "\n",
        "batch_size, state_size, t_size = 10**6, 1, 10**3\n",
        "sde = SDE(gamma,np.sqrt(Dx))\n",
        "ts = torch.linspace(0, 3, t_size)\n",
        "y0 = torch.normal(mu0, np.sqrt(beta0), size=(batch_size, state_size))\n",
        "g=[0.001,0.01,0.1,1]\n",
        "KL= torch.zeros([len(g),t_size])\n",
        "for k in range(0,len(g)):\n",
        "  torch.cuda.empty_cache()\n",
        "  sde = SDE(g[k],np.sqrt(Dx)).to(gpu)\n",
        "  ts = ts.to(gpu)\n",
        "  y0 = y0.to(gpu)\n",
        "  pdf= torch.zeros([x_size, t_size])\n",
        "  pdf=pdf.to(gpu)\n",
        "  #LA\n",
        "  M = odeint(f, f0, t, args=(g[k], Dx))\n",
        "  #Solution on GPU of the stochastic differential equation\n",
        "  with torch.no_grad():\n",
        "      ys = torchsde.sdeint(sde, y0, ts, method='srk',adaptive=True)\n",
        "  samples = ys.squeeze().t().cpu()\n",
        "  #Kernel density estimation\n",
        "  for i in range(0,t_size):\n",
        "    y = FFTKDE(kernel='gaussian', bw='silverman').fit(samples[:,i].cpu().detach().numpy()).evaluate(x)\n",
        "    pdf[:,i] = torch.from_numpy(y)\n",
        "    pla[:,i]=torch.tensor(stats.norm.pdf(x, M[i,0], np.sqrt(M[i,1])))\n",
        "    KL[k,i]=F.kl_div(pla[:,i],pdf[:,i].exp(),reduction='batchmean')\n",
        "for i in range(0,len(g)):\n",
        "  plt.plot(t,KL[i,:])\n",
        "plt.ylim([0, 1e5])\n",
        "plt.show()\n",
        "#save to plot in MATLAB\n",
        "mdict = {\"KL_div\" : KL, \"t\": t, \"gamma\": g, \"D\": Dx}\n",
        "savemat(\"SSvsLAg.mat\", mdict)"
      ],
      "metadata": {
        "id": "H22r6G7TMCAz",
        "colab": {
          "base_uri": "https://localhost:8080/",
          "height": 269
        },
        "outputId": "1e1aa394-e113-470b-fb6e-dde08724c500"
      },
      "execution_count": 19,
      "outputs": [
        {
          "output_type": "display_data",
          "data": {
            "text/plain": [
              "<Figure size 432x288 with 1 Axes>"
            ],
            "image/png": "[encoded data removed]"
          },
          "metadata": {
            "needs_background": "light"
          }
        }
      ]
    },
    {
      "cell_type": "code",
      "source": [
        "#Stochastic simulation and kernel density estimation comparison SSvsLA changing D\n",
        "Di=[0.1**2,0.01**2,0.001**2]\n",
        "KL= torch.zeros([len(Di),t_size])\n",
        "for k in range(0,len(Di)):\n",
        "  torch.cuda.empty_cache()\n",
        "  sde = SDE(gamma,np.sqrt(Di[k])).to(gpu)\n",
        "  ts = ts.to(gpu)\n",
        "  y0 = y0.to(gpu)\n",
        "  pdf= torch.zeros([x_size, t_size])\n",
        "  pdf=pdf.to(gpu)\n",
        "  #LA\n",
        "  M = odeint(f, f0, t, args=(gamma, Di[k]))\n",
        "  #Solution on GPU of the stochastic differential equation\n",
        "  with torch.no_grad():\n",
        "      ys = torchsde.sdeint(sde, y0, ts, method='srk',adaptive=True)\n",
        "  samples = ys.squeeze().t().cpu()\n",
        "  #Kernel density estimation\n",
        "  for i in range(0,t_size):\n",
        "    y = FFTKDE(kernel='gaussian', bw='silverman').fit(samples[:,i].cpu().detach().numpy()).evaluate(x)\n",
        "    pdf[:,i] = torch.from_numpy(y)\n",
        "    pla[:,i]=torch.tensor(stats.norm.pdf(x, M[i,0], np.sqrt(M[i,1])))\n",
        "    KL[k,i]=F.kl_div(pla[:,i],pdf[:,i].exp(),reduction='batchmean')\n",
        "for i in range(0,len(Di)):\n",
        "  plt.plot(t,KL[i,:])\n",
        "plt.ylim([0, 1e5])\n",
        "plt.show()    \n",
        "\n",
        "#save to plot in MATLAB\n",
        "mdict = {\"KL_div\" : KL, \"t\": t, \"gamma\": gamma, \"D\": Di}\n",
        "savemat(\"SSvsLAD.mat\", mdict)"
      ],
      "metadata": {
        "colab": {
          "base_uri": "https://localhost:8080/",
          "height": 269
        },
        "id": "K6akUD6UYuXr",
        "outputId": "b8835a75-def0-4579-fcb2-f430f5bc6a4f"
      },
      "execution_count": 20,
      "outputs": [
        {
          "output_type": "display_data",
          "data": {
            "text/plain": [
              "<Figure size 432x288 with 1 Axes>"
            ],
            "image/png": "[encoded data removed]"
          },
          "metadata": {
            "needs_background": "light"
          }
        }
      ]
    }
  ]
}